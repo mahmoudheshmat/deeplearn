{
 "cells": [
  {
   "cell_type": "markdown",
   "metadata": {},
   "source": [
    "## Inference and Validation\n",
    "<b>Inference</b> is utilizing a trained network to perform predictions.\n",
    "To test for overfitting while training, measure the performance on data in the validation set (separate from the training set).\n",
    "One way to avoid overfitting: dropout\n",
    "\n",
    "Typically 10-20% of original dataset is held out for testing and validation"
   ]
  },
  {
   "cell_type": "code",
   "execution_count": 3,
   "metadata": {},
   "outputs": [
    {
     "name": "stdout",
     "output_type": "stream",
     "text": [
      "Downloading http://fashion-mnist.s3-website.eu-central-1.amazonaws.com/train-images-idx3-ubyte.gz\n",
      "Downloading http://fashion-mnist.s3-website.eu-central-1.amazonaws.com/train-labels-idx1-ubyte.gz\n",
      "Downloading http://fashion-mnist.s3-website.eu-central-1.amazonaws.com/t10k-images-idx3-ubyte.gz\n",
      "Downloading http://fashion-mnist.s3-website.eu-central-1.amazonaws.com/t10k-labels-idx1-ubyte.gz\n",
      "Processing...\n",
      "Done!\n"
     ]
    }
   ],
   "source": [
    "import torch\n",
    "from torchvision import datasets, transforms\n",
    "\n",
    "# define a transform to normalize the data\n",
    "transform = transforms.Compose([transforms.ToTensor(),\n",
    "                                transforms.Normalize((0.5, 0.5, 0.5), (0.5, 0.5, 0.5))])\n",
    "\n",
    "# download and load the training data\n",
    "trainset = datasets.FashionMNIST('F_MNIST_data/', download=True, train=True, transform=transform)\n",
    "trainloader = torch.utils.data.DataLoader(trainset, batch_size=64, shuffle=True)\n",
    "\n",
    "# download and load test data\n",
    "testset = datasets.FashionMNIST('F_MNIST_data/', download=True, train=False, transform=transform)\n",
    "testloader = torch.utils.data.DataLoader(testset, batch_size=64, shuffle=True)"
   ]
  },
  {
   "cell_type": "markdown",
   "metadata": {},
   "source": [
    "Q: why is test and train data the same? don't we have to takea  portion of it"
   ]
  },
  {
   "cell_type": "markdown",
   "metadata": {},
   "source": [
    "### Create a model"
   ]
  },
  {
   "cell_type": "code",
   "execution_count": 4,
   "metadata": {},
   "outputs": [],
   "source": [
    "from torch import nn, optim\n",
    "import torch.nn.functional as F\n",
    "\n",
    "class Classifier(nn.Module):\n",
    "    def __init__(self):\n",
    "        super().__init__()\n",
    "        self.fc1 = nn.Linear(784, 256)\n",
    "        self.fc2 = nn.Linear(256, 128)\n",
    "        self.fc3 = nn.Linear(128, 64)\n",
    "        self.fc4 = nn.Linear(64, 10)\n",
    "        \n",
    "    def forward(self, x):\n",
    "        # flatten input tensor\n",
    "        x = x.view(x.shape[0], -1)\n",
    "        \n",
    "        x = F.relu(self.fc1(x))\n",
    "        x = F.relu(self.fc2(x))\n",
    "        x = F.relu(self.fc3(x))\n",
    "        x = F.log_softmax(self.fc4(x), dim=1)\n",
    "        \n",
    "        return x"
   ]
  },
  {
   "cell_type": "markdown",
   "metadata": {},
   "source": [
    "### Forward pass with one batch from test set"
   ]
  },
  {
   "cell_type": "code",
   "execution_count": 5,
   "metadata": {},
   "outputs": [
    {
     "name": "stdout",
     "output_type": "stream",
     "text": [
      "torch.Size([64, 10])\n"
     ]
    }
   ],
   "source": [
    "model = Classifier()\n",
    "\n",
    "images, labels = next(iter(testloader))\n",
    "# get class probabilities\n",
    "ps = torch.exp(model(images))\n",
    "# make sure the shape is appropriate: 10 class probabilities for 64 examples\n",
    "print(ps.shape)"
   ]
  },
  {
   "cell_type": "code",
   "execution_count": 6,
   "metadata": {},
   "outputs": [
    {
     "name": "stdout",
     "output_type": "stream",
     "text": [
      "tensor([[2],\n",
      "        [7],\n",
      "        [7],\n",
      "        [7],\n",
      "        [7],\n",
      "        [2],\n",
      "        [2],\n",
      "        [2],\n",
      "        [1],\n",
      "        [7]])\n"
     ]
    }
   ],
   "source": [
    "top_p, top_class = ps.topk(1, dim=1) \n",
    "# topk will return the highest k value, or the most likely class\n",
    "\n",
    "# look at the most likely class for the first 10 examples\n",
    "print(top_class[:10,:])"
   ]
  },
  {
   "cell_type": "markdown",
   "metadata": {},
   "source": [
    "### Determine if predicted classes matches the labels\n",
    "Can just compare the top class and labels, but they are different tensors as top_class is (64, 1) and labels is (64). They need to match"
   ]
  },
  {
   "cell_type": "code",
   "execution_count": 14,
   "metadata": {},
   "outputs": [
    {
     "name": "stdout",
     "output_type": "stream",
     "text": [
      "torch.Size([64, 1])\n"
     ]
    }
   ],
   "source": [
    "equals = top_class == labels.view(*top_class.shape)\n",
    "print(equals.shape)"
   ]
  },
  {
   "cell_type": "markdown",
   "metadata": {},
   "source": [
    "Here we will calculate the percentage of correct predictions by dividing the sum of all values by the number of values (this works because correct predictions are 1, incorrect are 0). Use .mean()\n",
    "\n",
    "Problem: 'equals' has a type torch.ByteTensor, which torch.mean cannot act on. Need to convert equals to a float tensor below:"
   ]
  },
  {
   "cell_type": "code",
   "execution_count": 15,
   "metadata": {},
   "outputs": [
    {
     "name": "stdout",
     "output_type": "stream",
     "text": [
      "Accuracy: 7.8125%\n"
     ]
    }
   ],
   "source": [
    "accuracy = torch.mean(equals.type(torch.FloatTensor))\n",
    "print(f'Accuracy: {accuracy.item()*100}%')"
   ]
  },
  {
   "cell_type": "markdown",
   "metadata": {},
   "source": [
    "### Train the network"
   ]
  },
  {
   "cell_type": "code",
   "execution_count": 17,
   "metadata": {},
   "outputs": [
    {
     "name": "stdout",
     "output_type": "stream",
     "text": [
      "Epoch: 1/30..  Training Loss: 0.512..  Test Loss: 0.455..  Test Accuracy: 0.833\n",
      "Epoch: 2/30..  Training Loss: 0.388..  Test Loss: 0.471..  Test Accuracy: 0.840\n",
      "Epoch: 3/30..  Training Loss: 0.356..  Test Loss: 0.391..  Test Accuracy: 0.860\n",
      "Epoch: 4/30..  Training Loss: 0.333..  Test Loss: 0.391..  Test Accuracy: 0.863\n",
      "Epoch: 5/30..  Training Loss: 0.319..  Test Loss: 0.374..  Test Accuracy: 0.867\n",
      "Epoch: 6/30..  Training Loss: 0.302..  Test Loss: 0.368..  Test Accuracy: 0.868\n",
      "Epoch: 7/30..  Training Loss: 0.294..  Test Loss: 0.366..  Test Accuracy: 0.871\n",
      "Epoch: 8/30..  Training Loss: 0.285..  Test Loss: 0.432..  Test Accuracy: 0.864\n",
      "Epoch: 9/30..  Training Loss: 0.274..  Test Loss: 0.350..  Test Accuracy: 0.875\n",
      "Epoch: 10/30..  Training Loss: 0.266..  Test Loss: 0.367..  Test Accuracy: 0.873\n",
      "Epoch: 11/30..  Training Loss: 0.259..  Test Loss: 0.367..  Test Accuracy: 0.873\n",
      "Epoch: 12/30..  Training Loss: 0.254..  Test Loss: 0.364..  Test Accuracy: 0.881\n",
      "Epoch: 13/30..  Training Loss: 0.249..  Test Loss: 0.366..  Test Accuracy: 0.877\n",
      "Epoch: 14/30..  Training Loss: 0.243..  Test Loss: 0.364..  Test Accuracy: 0.878\n",
      "Epoch: 15/30..  Training Loss: 0.238..  Test Loss: 0.371..  Test Accuracy: 0.881\n",
      "Epoch: 16/30..  Training Loss: 0.233..  Test Loss: 0.374..  Test Accuracy: 0.876\n",
      "Epoch: 17/30..  Training Loss: 0.230..  Test Loss: 0.386..  Test Accuracy: 0.880\n",
      "Epoch: 18/30..  Training Loss: 0.220..  Test Loss: 0.368..  Test Accuracy: 0.882\n",
      "Epoch: 19/30..  Training Loss: 0.217..  Test Loss: 0.394..  Test Accuracy: 0.882\n",
      "Epoch: 20/30..  Training Loss: 0.217..  Test Loss: 0.418..  Test Accuracy: 0.875\n",
      "Epoch: 21/30..  Training Loss: 0.210..  Test Loss: 0.409..  Test Accuracy: 0.881\n",
      "Epoch: 22/30..  Training Loss: 0.210..  Test Loss: 0.376..  Test Accuracy: 0.883\n",
      "Epoch: 23/30..  Training Loss: 0.206..  Test Loss: 0.385..  Test Accuracy: 0.881\n",
      "Epoch: 24/30..  Training Loss: 0.203..  Test Loss: 0.409..  Test Accuracy: 0.880\n",
      "Epoch: 25/30..  Training Loss: 0.198..  Test Loss: 0.391..  Test Accuracy: 0.887\n",
      "Epoch: 26/30..  Training Loss: 0.195..  Test Loss: 0.425..  Test Accuracy: 0.879\n",
      "Epoch: 27/30..  Training Loss: 0.198..  Test Loss: 0.403..  Test Accuracy: 0.883\n",
      "Epoch: 28/30..  Training Loss: 0.189..  Test Loss: 0.412..  Test Accuracy: 0.877\n",
      "Epoch: 29/30..  Training Loss: 0.194..  Test Loss: 0.418..  Test Accuracy: 0.882\n",
      "Epoch: 30/30..  Training Loss: 0.192..  Test Loss: 0.419..  Test Accuracy: 0.884\n"
     ]
    }
   ],
   "source": [
    "model = Classifier()\n",
    "criterion = nn.NLLLoss()\n",
    "optimizer = optim.Adam(model.parameters(), lr=0.003)\n",
    "\n",
    "epochs = 30\n",
    "steps = 0\n",
    "\n",
    "train_losses, test_losses = [], []\n",
    "for e in range(epochs):\n",
    "    running_loss = 0\n",
    "    for images, labels in trainloader:\n",
    "        \n",
    "        optimizer.zero_grad()\n",
    "        \n",
    "        log_ps = model(images)\n",
    "        loss = criterion(log_ps, labels)\n",
    "        loss.backward()\n",
    "        optimizer.step()\n",
    "        \n",
    "        running_loss += loss.item()\n",
    "        \n",
    "    else:\n",
    "        test_loss = 0\n",
    "        accuracy = 0\n",
    "        \n",
    "        # turn off gradients for validation to save memory and computation\n",
    "        with torch.no_grad():\n",
    "            for images, labels in testloader:\n",
    "                log_ps = model(images)\n",
    "                test_loss += criterion(log_ps, labels)\n",
    "                \n",
    "                ps = torch.exp(log_ps)\n",
    "                top_p, top_class = ps.topk(1, dim=1)\n",
    "                equals = top_class == labels.view(*top_class.shape)\n",
    "                accuracy += torch.mean(equals.type(torch.FloatTensor))\n",
    "                \n",
    "        train_losses.append(running_loss/len(trainloader))\n",
    "        test_losses.append(test_loss/len(testloader))\n",
    "        \n",
    "        print(\"Epoch: {}/{}.. \".format(e+1, epochs),\n",
    "              \"Training Loss: {:.3f}.. \".format(running_loss/len(trainloader)),\n",
    "              \"Test Loss: {:.3f}.. \".format(test_loss/len(testloader)),\n",
    "              \"Test Accuracy: {:.3f}\".format(accuracy/len(testloader)))"
   ]
  },
  {
   "cell_type": "code",
   "execution_count": 18,
   "metadata": {},
   "outputs": [],
   "source": [
    "%matplotlib inline\n",
    "%config InlineBackend.figure_format = 'retina'\n",
    "\n",
    "import matplotlib.pyplot as plt"
   ]
  },
  {
   "cell_type": "code",
   "execution_count": 20,
   "metadata": {},
   "outputs": [
    {
     "data": {
      "image/png": "[encoded data removed]",
      "text/plain": [
       "<Figure size 432x288 with 1 Axes>"
      ]
     },
     "metadata": {
      "image/png": {
       "height": 250,
       "width": 380
      }
     },
     "output_type": "display_data"
    }
   ],
   "source": [
    "plt.plot(train_losses, label='Training loss')\n",
    "plt.plot(test_losses, label='Validation loss')\n",
    "plt.legend(frameon=False)\n",
    "plt.show()"
   ]
  },
  {
   "cell_type": "markdown",
   "metadata": {},
   "source": [
    "As seen in the figure above, the model is getting progressively more accurate at classifying the training set, but not the validation set. This is a case of overfitting and being unable to generalize new data. In the next assignment, I will use dropouts to prevent overfitting the training set."
   ]
  },
  {
   "cell_type": "code",
   "execution_count": null,
   "metadata": {},
   "outputs": [],
   "source": []
  }
 ],
 "metadata": {
  "kernelspec": {
   "display_name": "Python 3",
   "language": "python",
   "name": "python3"
  },
  "language_info": {
   "codemirror_mode": {
    "name": "ipython",
    "version": 3
   },
   "file_extension": ".py",
   "mimetype": "text/x-python",
   "name": "python",
   "nbconvert_exporter": "python",
   "pygments_lexer": "ipython3",
   "version": "3.6.5"
  }
 },
 "nbformat": 4,
 "nbformat_minor": 2
}
