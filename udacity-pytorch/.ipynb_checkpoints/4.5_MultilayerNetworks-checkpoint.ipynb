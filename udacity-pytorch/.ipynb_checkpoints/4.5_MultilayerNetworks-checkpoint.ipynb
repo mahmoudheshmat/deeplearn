{
 "cells": [
  {
   "cell_type": "code",
   "execution_count": 2,
   "metadata": {},
   "outputs": [],
   "source": [
    "import torch\n",
    "import numpy as np"
   ]
  },
  {
   "cell_type": "code",
   "execution_count": 3,
   "metadata": {},
   "outputs": [
    {
     "data": {
      "text/plain": [
       "array([[0.99253809, 0.16149193, 0.6460443 ],\n",
       "       [0.95803898, 0.19086791, 0.07442448],\n",
       "       [0.50742786, 0.21442535, 0.66767737],\n",
       "       [0.93732804, 0.66606384, 0.25198648]])"
      ]
     },
     "execution_count": 3,
     "metadata": {},
     "output_type": "execute_result"
    }
   ],
   "source": [
    "a = np.random.rand(4, 3)\n",
    "a"
   ]
  },
  {
   "cell_type": "code",
   "execution_count": 4,
   "metadata": {},
   "outputs": [
    {
     "data": {
      "text/plain": [
       "tensor([[0.9925, 0.1615, 0.6460],\n",
       "        [0.9580, 0.1909, 0.0744],\n",
       "        [0.5074, 0.2144, 0.6677],\n",
       "        [0.9373, 0.6661, 0.2520]], dtype=torch.float64)"
      ]
     },
     "execution_count": 4,
     "metadata": {},
     "output_type": "execute_result"
    }
   ],
   "source": [
    "b = torch.from_numpy(a)\n",
    "b"
   ]
  },
  {
   "cell_type": "code",
   "execution_count": 5,
   "metadata": {},
   "outputs": [
    {
     "data": {
      "text/plain": [
       "array([[0.99253809, 0.16149193, 0.6460443 ],\n",
       "       [0.95803898, 0.19086791, 0.07442448],\n",
       "       [0.50742786, 0.21442535, 0.66767737],\n",
       "       [0.93732804, 0.66606384, 0.25198648]])"
      ]
     },
     "execution_count": 5,
     "metadata": {},
     "output_type": "execute_result"
    }
   ],
   "source": [
    "b.numpy()"
   ]
  },
  {
   "cell_type": "markdown",
   "metadata": {},
   "source": [
    "--------------------------------------\n",
    "The memory is shared between the Numpy array and the Torch tensor, so changing the values in-place of one will change the other"
   ]
  },
  {
   "cell_type": "code",
   "execution_count": 6,
   "metadata": {},
   "outputs": [
    {
     "data": {
      "text/plain": [
       "tensor([[1.9851, 0.3230, 1.2921],\n",
       "        [1.9161, 0.3817, 0.1488],\n",
       "        [1.0149, 0.4289, 1.3354],\n",
       "        [1.8747, 1.3321, 0.5040]], dtype=torch.float64)"
      ]
     },
     "execution_count": 6,
     "metadata": {},
     "output_type": "execute_result"
    }
   ],
   "source": [
    "# multiply Tensor by 2, in place (denoted by underscore)\n",
    "b.mul_(2)"
   ]
  },
  {
   "cell_type": "code",
   "execution_count": 7,
   "metadata": {},
   "outputs": [
    {
     "data": {
      "text/plain": [
       "array([[1.98507618, 0.32298387, 1.2920886 ],\n",
       "       [1.91607795, 0.38173582, 0.14884896],\n",
       "       [1.01485572, 0.4288507 , 1.33535475],\n",
       "       [1.87465608, 1.33212768, 0.50397296]])"
      ]
     },
     "execution_count": 7,
     "metadata": {},
     "output_type": "execute_result"
    }
   ],
   "source": [
    "# numpy array will now show the same changed values\n",
    "a"
   ]
  },
  {
   "cell_type": "code",
   "execution_count": null,
   "metadata": {},
   "outputs": [],
   "source": []
  }
 ],
 "metadata": {
  "kernelspec": {
   "display_name": "Python 3",
   "language": "python",
   "name": "python3"
  },
  "language_info": {
   "codemirror_mode": {
    "name": "ipython",
    "version": 3
   },
   "file_extension": ".py",
   "mimetype": "text/x-python",
   "name": "python",
   "nbconvert_exporter": "python",
   "pygments_lexer": "ipython3",
   "version": "3.6.5"
  }
 },
 "nbformat": 4,
 "nbformat_minor": 2
}
