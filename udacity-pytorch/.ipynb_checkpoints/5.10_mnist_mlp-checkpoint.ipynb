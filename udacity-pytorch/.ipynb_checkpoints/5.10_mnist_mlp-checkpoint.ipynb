{
 "cells": [
  {
   "cell_type": "markdown",
   "metadata": {},
   "source": [
    "# Multi-layer Perceptron, MNIST\n",
    "\n",
    "Here we will train a multi-layer perceptron (MLP) to classify images from the MNIST database\n",
    "\n",
    "The process:\n",
    "1. load and visualize data\n",
    "2. define a neural network\n",
    "3. train the model\n",
    "4. evaluate the performance of our trained model on a test dataset"
   ]
  },
  {
   "cell_type": "code",
   "execution_count": 1,
   "metadata": {},
   "outputs": [],
   "source": [
    "import torch\n",
    "import numpy as np"
   ]
  },
  {
   "cell_type": "markdown",
   "metadata": {},
   "source": [
    "# 1. Load and visualize data\n",
    "\n",
    "\n",
    "1.1 Load"
   ]
  },
  {
   "cell_type": "code",
   "execution_count": 2,
   "metadata": {},
   "outputs": [],
   "source": [
    "from torchvision import datasets\n",
    "import torchvision.transforms as transforms\n",
    "from torch.utils.data.sampler import SubsetRandomSampler # for splitting training data\n",
    "\n",
    "# number of subprocesses to use for data loading (aka loading in parallel)\n",
    "num_workers = 0\n",
    "# how many samples per batch to load\n",
    "batch_size = 20\n",
    "# percentage of training set to use as validation\n",
    "valid_size = 0.2\n",
    "\n",
    "# convert data to torch.FloatTensor\n",
    "transform = transforms.ToTensor()\n",
    "\n",
    "# choose the training and test datasets\n",
    "train_data = datasets.MNIST(root='data', train=True, download=True, transform=transform)\n",
    "test_data = datasets.MNIST(root='data', train=False, download=True, transform=transform)\n",
    "\n",
    "# obtain training indices that will be used for validation\n",
    "num_train = len(train_data)\n",
    "indices = list(range(num_train))\n",
    "np.random.shuffle(indices)\n",
    "split = int(np.floor(valid_size * num_train))\n",
    "train_idx, valid_idx = indices[split:], indices[:split]\n",
    "\n",
    "# define samplers for obtaining training and validation batches\n",
    "# refer back\n",
    "train_sampler = SubsetRandomSampler(train_idx)\n",
    "valid_sampler = SubsetRandomSampler(valid_idx)\n",
    "\n",
    "# prepare data loaders\n",
    "train_loader = torch.utils.data.DataLoader(train_data, batch_size=batch_size, sampler=train_sampler, num_workers=num_workers)\n",
    "valid_loader = torch.utils.data.DataLoader(train_data, batch_size=batch_size, sampler=valid_sampler, num_workers=num_workers)\n",
    "test_loader = torch.utils.data.DataLoader(test_data, batch_size=batch_size, num_workers=num_workers)"
   ]
  },
  {
   "cell_type": "markdown",
   "metadata": {},
   "source": [
    "1.2 Visualize"
   ]
  },
  {
   "cell_type": "code",
   "execution_count": null,
   "metadata": {},
   "outputs": [],
   "source": [
    "import matplotlib.pyplot as plt\n",
    "%matplotlib inline\n",
    "\n",
    "# obtain one batch of trianing imgs\n",
    "dataiter = iter(train_loader)\n",
    "images, labels = dataiter.next()\n",
    "images = images.numpy()\n",
    "\n",
    "# plot the images in the batch, along with the corresponding labels\n",
    "fig = plt.figure(figsize=(25, 4))\n",
    "for idx in np.arange(20):\n",
    "    ax = fig.add_subplot(2, 20/2, idx+1, xticks=[], yticks=[])\n",
    "    ax.imshow(np.squeeze(images[idx]), cmap='gray')\n",
    "    # print out correct label for each image\n",
    "    # .item() obtains value contained in Tensor\n",
    "    ax.set_title(str(labels[idx].item()))"
   ]
  },
  {
   "cell_type": "code",
   "execution_count": null,
   "metadata": {},
   "outputs": [],
   "source": [
    "img = np.squeeze(images[1])\n",
    "\n",
    "fig = plt.figure(figsize = (12, 12))\n",
    "ax = fig.add_subplot(111)\n",
    "ax.imshow(img, cmap='gray')\n",
    "width, height = img.shape\n",
    "thresh = img.max()/2.5\n",
    "for x in range(width):\n",
    "    for y in range(height):\n",
    "        val = round(img[x][y], 2) if img[x][y] !=0 else 0\n",
    "        ax.annotate(str(val), xy=(y,x),\n",
    "                    horizontalalignment='center',\n",
    "                    verticalalignment='center',\n",
    "                    color='white' if img[x][y]<thresh else 'black')"
   ]
  },
  {
   "cell_type": "markdown",
   "metadata": {},
   "source": [
    "# 2. Define the network architecture\n",
    "\n",
    "\n",
    "The architecture will take a 784-dim Tensor of pixel values as input for each image and outputting a Tensor of 10 (number of classes) that indicates the class scores for the image. Following example uses 2 hidden layers and dropout to avoid overfitting."
   ]
  },
  {
   "cell_type": "code",
   "execution_count": 12,
   "metadata": {},
   "outputs": [
    {
     "name": "stdout",
     "output_type": "stream",
     "text": [
      "Net(\n",
      "  (fc1): Linear(in_features=784, out_features=512, bias=True)\n",
      "  (fc2): Linear(in_features=512, out_features=512, bias=True)\n",
      "  (fc3): Linear(in_features=512, out_features=10, bias=True)\n",
      "  (dropout): Dropout(p=0.2)\n",
      ")\n"
     ]
    }
   ],
   "source": [
    "import torch.nn as nn\n",
    "import torch.nn.functional as F\n",
    "\n",
    "## Define the NN architecture\n",
    "class Net(nn.Module):\n",
    "    def __init__(self):\n",
    "        super(Net, self).__init__()\n",
    "        # linear layer (784 input --> hidden nodes in each layer (512))\n",
    "        hidden1 = 512\n",
    "        hidden2 = 512\n",
    "        self.fc1 = nn.Linear(28 * 28, hidden1)\n",
    "        self.fc2 = nn.Linear(hidden1, hidden2)\n",
    "        self.fc3 = nn.Linear(hidden2, 10)\n",
    "        # dropout layer p=0.2\n",
    "        self.dropout = nn.Dropout(0.2)\n",
    "        \n",
    "    def forward(self, x):\n",
    "        # flatten image\n",
    "        x = x.view(-1, 28 * 28)\n",
    "        # add hidden layers with relu activation, followed by dropout\n",
    "        x = F.relu(self.fc1(x))\n",
    "        x = self.dropout(x)\n",
    "        x = F.relu(self.fc2(x))\n",
    "        x = self.dropout(x)\n",
    "        # output layer, will not use softmax here because the cross entropy loss function will do so\n",
    "        x = self.fc3(x)\n",
    "        return x\n",
    "        \n",
    "        \n",
    "# initialize the NN\n",
    "model = Net()\n",
    "print(model)"
   ]
  },
  {
   "cell_type": "markdown",
   "metadata": {},
   "source": [
    "Specify Loss function and Optimizer\n",
    "\n",
    "Recommended: use cross-entropy loss for classifications\n",
    "- applies a softmax function to the output layer, then calculates NLLLoss (negative log likelihood loss)"
   ]
  },
  {
   "cell_type": "code",
   "execution_count": 13,
   "metadata": {},
   "outputs": [],
   "source": [
    "# specify loss and optimization \n",
    "criterion = nn.CrossEntropyLoss()\n",
    "\n",
    "# specify optimizer (stochastic gradient descent) and learning rate = 0.01\n",
    "optimizer = torch.optim.SGD(model.parameters(), lr=0.01)"
   ]
  },
  {
   "cell_type": "markdown",
   "metadata": {},
   "source": [
    "# 3. Training the Network"
   ]
  },
  {
   "cell_type": "code",
   "execution_count": 16,
   "metadata": {},
   "outputs": [
    {
     "name": "stdout",
     "output_type": "stream",
     "text": [
      "Epoch: 1 \tTraining Loss: 0.229525\n",
      "Validation loss decreased (inf --> 2889.149472).  Saving model...\n",
      "Epoch: 2 \tTraining Loss: 0.190102\n",
      "Validation loss decreased (2889.149472 --> 2470.161277).  Saving model...\n",
      "Epoch: 3 \tTraining Loss: 0.162123\n",
      "Validation loss decreased (2470.161277 --> 2175.587741).  Saving model...\n",
      "Epoch: 4 \tTraining Loss: 0.139636\n",
      "Validation loss decreased (2175.587741 --> 1939.493620).  Saving model...\n",
      "Epoch: 5 \tTraining Loss: 0.122411\n",
      "Validation loss decreased (1939.493620 --> 1741.465150).  Saving model...\n",
      "Epoch: 6 \tTraining Loss: 0.111168\n",
      "Validation loss decreased (1741.465150 --> 1590.192635).  Saving model...\n",
      "Epoch: 7 \tTraining Loss: 0.099901\n",
      "Validation loss decreased (1590.192635 --> 1491.196797).  Saving model...\n",
      "Epoch: 8 \tTraining Loss: 0.090466\n",
      "Validation loss decreased (1491.196797 --> 1365.497262).  Saving model...\n",
      "Epoch: 9 \tTraining Loss: 0.083384\n",
      "Validation loss decreased (1365.497262 --> 1307.538325).  Saving model...\n",
      "Epoch: 10 \tTraining Loss: 0.075458\n",
      "Validation loss decreased (1307.538325 --> 1241.908039).  Saving model...\n",
      "Epoch: 11 \tTraining Loss: 0.069017\n",
      "Validation loss decreased (1241.908039 --> 1167.003832).  Saving model...\n",
      "Epoch: 12 \tTraining Loss: 0.064783\n",
      "Validation loss decreased (1167.003832 --> 1135.567743).  Saving model...\n",
      "Epoch: 13 \tTraining Loss: 0.060426\n",
      "Validation loss decreased (1135.567743 --> 1101.461669).  Saving model...\n",
      "Epoch: 14 \tTraining Loss: 0.056000\n",
      "Validation loss decreased (1101.461669 --> 1074.554319).  Saving model...\n",
      "Epoch: 15 \tTraining Loss: 0.051812\n",
      "Validation loss decreased (1074.554319 --> 1045.797870).  Saving model...\n",
      "Epoch: 16 \tTraining Loss: 0.049019\n",
      "Validation loss decreased (1045.797870 --> 1008.006039).  Saving model...\n",
      "Epoch: 17 \tTraining Loss: 0.045672\n",
      "Validation loss decreased (1008.006039 --> 977.191999).  Saving model...\n",
      "Epoch: 18 \tTraining Loss: 0.043103\n",
      "Epoch: 19 \tTraining Loss: 0.040567\n",
      "Validation loss decreased (977.191999 --> 944.050388).  Saving model...\n",
      "Epoch: 20 \tTraining Loss: 0.038256\n",
      "Validation loss decreased (944.050388 --> 941.311124).  Saving model...\n",
      "Epoch: 21 \tTraining Loss: 0.036451\n",
      "Validation loss decreased (941.311124 --> 913.497354).  Saving model...\n",
      "Epoch: 22 \tTraining Loss: 0.033068\n",
      "Validation loss decreased (913.497354 --> 902.627823).  Saving model...\n",
      "Epoch: 23 \tTraining Loss: 0.031921\n",
      "Validation loss decreased (902.627823 --> 874.698055).  Saving model...\n",
      "Epoch: 24 \tTraining Loss: 0.030260\n",
      "Validation loss decreased (874.698055 --> 861.250757).  Saving model...\n",
      "Epoch: 25 \tTraining Loss: 0.029396\n",
      "Validation loss decreased (861.250757 --> 856.621879).  Saving model...\n",
      "Epoch: 26 \tTraining Loss: 0.028384\n",
      "Epoch: 27 \tTraining Loss: 0.025973\n",
      "Validation loss decreased (856.621879 --> 851.288327).  Saving model...\n",
      "Epoch: 28 \tTraining Loss: 0.024278\n",
      "Validation loss decreased (851.288327 --> 838.071069).  Saving model...\n",
      "Epoch: 29 \tTraining Loss: 0.023418\n",
      "Validation loss decreased (838.071069 --> 832.534538).  Saving model...\n",
      "Epoch: 30 \tTraining Loss: 0.023131\n",
      "Validation loss decreased (832.534538 --> 825.840424).  Saving model...\n"
     ]
    }
   ],
   "source": [
    "# number of epochs to train the model\n",
    "n_epochs = 30 # for training use 20-50\n",
    "\n",
    "# initialize tracker for minimum validation loss\n",
    "valid_loss_min = np.Inf # guarantees first model will be saved when compared to infinity (definite decrease)\n",
    "\n",
    "\n",
    "\n",
    "for epoch in range(n_epochs):\n",
    "    # monitor training loss\n",
    "    train_loss = 0.0\n",
    "    valid_loss = 0.0\n",
    "    \n",
    "    ###################\n",
    "    # train the model #\n",
    "    ###################\n",
    "    # prep model for training\n",
    "    model.train()\n",
    "    for data, target in train_loader:\n",
    "        \n",
    "        # clear the gradients of all optimized variables\n",
    "        optimizer.zero_grad()\n",
    "        # forward pass: compute predicted outputs by passing inputs to the model\n",
    "        output = model(data)\n",
    "        # calculate the loss\n",
    "        loss = criterion(output, target)\n",
    "        # backward pass: compute gradient of the loss with respect to model parameters\n",
    "        loss.backward()\n",
    "        # perform a single optimization step (parameter update)\n",
    "        optimizer.step()\n",
    "        # update running training loss\n",
    "        # you want to record the accumulated loss, not the average\n",
    "        train_loss += loss.item()*data.size(0)\n",
    "        \n",
    "    model.eval()    \n",
    "    # validate the model #\n",
    "    for data, target in valid_loader:\n",
    "        output = model(data)\n",
    "        loss = criterion(output, target)\n",
    "        valid_loss += loss.item()*data.size(0)\n",
    "    \n",
    "    # print training statistics\n",
    "    # calculate average loss over an epoch\n",
    "    train_loss = train_loss/len(train_loader.dataset)\n",
    "    \n",
    "    print('Epoch: {} \\tTraining Loss: {:.6f}'.format(\n",
    "            epoch+1,\n",
    "            train_loss\n",
    "            ))\n",
    "    \n",
    "    # save model if validation loss decreased\n",
    "    if valid_loss <= valid_loss_min:\n",
    "        print('Validation loss decreased ({:.6f} --> {:.6f}).  Saving model...'.format(\n",
    "        valid_loss_min,\n",
    "        valid_loss))\n",
    "        torch.save(model.state_dict(), 'model.pt')\n",
    "        valid_loss_min = valid_loss\n",
    "    "
   ]
  },
  {
   "cell_type": "markdown",
   "metadata": {},
   "source": [
    "# Load the model with the lowest validation loss"
   ]
  },
  {
   "cell_type": "code",
   "execution_count": 17,
   "metadata": {},
   "outputs": [],
   "source": [
    "model.load_state_dict(torch.load('model.pt'))"
   ]
  },
  {
   "cell_type": "markdown",
   "metadata": {},
   "source": [
    "# 3. Test the trained network"
   ]
  },
  {
   "cell_type": "code",
   "execution_count": 20,
   "metadata": {
    "scrolled": true
   },
   "outputs": [
    {
     "name": "stdout",
     "output_type": "stream",
     "text": [
      "Test Loss: 0.058462\n",
      "\n",
      "Test Accuracy of     0: 98% (970/980)\n",
      "Test Accuracy of     1: 99% (1124/1135)\n",
      "Test Accuracy of     2: 97% (1010/1032)\n",
      "Test Accuracy of     3: 98% (995/1010)\n",
      "Test Accuracy of     4: 98% (963/982)\n",
      "Test Accuracy of     5: 97% (869/892)\n",
      "Test Accuracy of     6: 98% (940/958)\n",
      "Test Accuracy of     7: 97% (1007/1028)\n",
      "Test Accuracy of     8: 97% (950/974)\n",
      "Test Accuracy of     9: 96% (977/1009)\n",
      "\n",
      "Test Accuracy (Overall): 98% (9805/10000) \n"
     ]
    }
   ],
   "source": [
    "# initialize lists to monitor test loss and accuracy\n",
    "test_loss = 0.0\n",
    "class_correct = list(0. for i in range(10))\n",
    "class_total = list(0. for i in range(10))\n",
    "\n",
    "model.eval() # prep model for evaluation\n",
    "\n",
    "for data, target in test_loader:\n",
    "    # forward pass: compute predicted outputs by passing inputs to the model\n",
    "    output = model(data)\n",
    "    # calculate the loss\n",
    "    loss = criterion(output, target)\n",
    "    # update test loss\n",
    "    test_loss += loss.item()*data.size(0)\n",
    "    # convert output probabilities to predicted class\n",
    "    _, pred = torch.max(output, 1)\n",
    "    # compare predictions to true label\n",
    "    correct = np.squeeze(pred.eq(target.data.view_as(pred)))\n",
    "    # calculate test accuracy for each object class\n",
    "    for i in range(batch_size):\n",
    "        label = target.data[i]\n",
    "        class_correct[label] += correct[i].item()\n",
    "        class_total[label] += 1\n",
    "        \n",
    "# calculate and print average test loss\n",
    "test_loss = test_loss/len(test_loader.dataset)\n",
    "print('Test Loss: {:.6f}\\n'.format(test_loss))\n",
    "\n",
    "for i in range(10):\n",
    "    if class_total[i] > 0:\n",
    "        print('Test Accuracy of %5s: %2d%% (%2d/%2d)' % (\n",
    "            str(i), 100 * class_correct[i] / class_total[i],\n",
    "            np.sum(class_correct[i]), np.sum(class_total[i])))\n",
    "    else:\n",
    "        print('Test Accuracy of %5s: N/A (No training examples)' % (classes[i]))\n",
    "        \n",
    "print('\\nTest Accuracy (Overall): %2d%% (%2d/%2d) ' % (\n",
    "    100. * np.sum(class_correct) / np.sum(class_total),\n",
    "    np.sum(class_correct), np.sum(class_total)))"
   ]
  },
  {
   "cell_type": "code",
   "execution_count": null,
   "metadata": {},
   "outputs": [],
   "source": []
  }
 ],
 "metadata": {
  "kernelspec": {
   "display_name": "Python 3",
   "language": "python",
   "name": "python3"
  },
  "language_info": {
   "codemirror_mode": {
    "name": "ipython",
    "version": 3
   },
   "file_extension": ".py",
   "mimetype": "text/x-python",
   "name": "python",
   "nbconvert_exporter": "python",
   "pygments_lexer": "ipython3",
   "version": "3.6.5"
  }
 },
 "nbformat": 4,
 "nbformat_minor": 2
}
