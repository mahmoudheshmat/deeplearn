{
 "cells": [
  {
   "cell_type": "code",
   "execution_count": 1,
   "metadata": {},
   "outputs": [],
   "source": [
    "import torch\n",
    "import numpy\n",
    "import matplotlib.pyplot as plt\n",
    "import helper\n",
    "\n",
    "%matplotlib inline"
   ]
  },
  {
   "cell_type": "markdown",
   "metadata": {},
   "source": [
    "Exercise: create a network with 784 input units, a hidden layer with 128 units, and a ReLU activation. Then, a hidden layer with 64 units and ReLU activation. Finally, an output layer with a softmax activation.\n",
    "May use ReLU activation with nn.ReLU"
   ]
  },
  {
   "cell_type": "code",
   "execution_count": 2,
   "metadata": {},
   "outputs": [],
   "source": [
    "from torchvision import datasets, transforms\n",
    "\n",
    "transform = transforms.Compose([transforms.ToTensor(),\n",
    "                                transforms.Normalize((0.5,), (0.5,)),\n",
    "                               ])\n",
    "\n",
    "trainset = datasets.MNIST('MNIST_data/', download=True, train=True, transform=transform)\n",
    "trainloader = torch.utils.data.DataLoader(trainset, batch_size=64, shuffle=True)"
   ]
  },
  {
   "cell_type": "code",
   "execution_count": 3,
   "metadata": {},
   "outputs": [],
   "source": [
    "torch.manual_seed(7)\n",
    "\n",
    "features = torch.randn((1, 784))\n",
    "\n",
    "n_input = 784\n",
    "n_hidden1 = 128\n",
    "n_hidden2 = 64\n",
    "n_output = 10\n",
    "\n",
    "w1 = torch.randn(n_input, n_hidden1)\n",
    "w2 = torch.randn(n_hidden1, n_hidden2)\n",
    "w3 = torch.randn(n_hidden2, n_output)\n",
    "\n",
    "b1 = torch.randn(n_hidden1)\n",
    "b2 = torch.randn(n_hidden2)\n",
    "b3 = torch.randn(n_output)"
   ]
  },
  {
   "cell_type": "code",
   "execution_count": 4,
   "metadata": {},
   "outputs": [],
   "source": [
    "from torch import nn\n",
    "import torch.nn.functional as F\n",
    "\n",
    "class Network(nn.Module):\n",
    "    def __init__(self):\n",
    "        super().__init__()\n",
    "        self.hidden1 = nn.Linear(784, 128)\n",
    "        self.hidden2 = nn.Linear(128, 64)\n",
    "        self.output = nn.Linear(64, 10)\n",
    "        \n",
    "    def forward(self, x):\n",
    "        x = F.relu(self.hidden1(x))\n",
    "        x = F.relu(self.hidden2(x))\n",
    "        x = F.softmax(self.output(x), dim=1)\n",
    "        \n",
    "        return x"
   ]
  },
  {
   "cell_type": "code",
   "execution_count": 5,
   "metadata": {},
   "outputs": [
    {
     "data": {
      "text/plain": [
       "Network(\n",
       "  (hidden1): Linear(in_features=784, out_features=128, bias=True)\n",
       "  (hidden2): Linear(in_features=128, out_features=64, bias=True)\n",
       "  (output): Linear(in_features=64, out_features=10, bias=True)\n",
       ")"
      ]
     },
     "execution_count": 5,
     "metadata": {},
     "output_type": "execute_result"
    }
   ],
   "source": [
    "Network()"
   ]
  },
  {
   "cell_type": "code",
   "execution_count": 6,
   "metadata": {},
   "outputs": [
    {
     "name": "stdout",
     "output_type": "stream",
     "text": [
      "Parameter containing:\n",
      "tensor([[-0.0338,  0.0196,  0.0122,  ..., -0.0086,  0.0045,  0.0016],\n",
      "        [ 0.0348,  0.0264, -0.0047,  ..., -0.0280,  0.0130, -0.0260],\n",
      "        [-0.0205, -0.0050, -0.0323,  ..., -0.0023, -0.0049, -0.0302],\n",
      "        ...,\n",
      "        [-0.0053, -0.0081,  0.0322,  ..., -0.0028, -0.0100,  0.0119],\n",
      "        [ 0.0347, -0.0328,  0.0315,  ..., -0.0045, -0.0223, -0.0194],\n",
      "        [-0.0082, -0.0056, -0.0241,  ...,  0.0142, -0.0144,  0.0288]],\n",
      "       requires_grad=True)\n",
      "Parameter containing:\n",
      "tensor([ 0.0197, -0.0348,  0.0168, -0.0096, -0.0140,  0.0007,  0.0147,  0.0205,\n",
      "        -0.0157, -0.0111,  0.0261,  0.0051,  0.0286,  0.0011, -0.0180,  0.0339,\n",
      "         0.0260,  0.0183,  0.0207,  0.0130,  0.0151,  0.0200, -0.0226,  0.0028,\n",
      "         0.0325,  0.0226, -0.0246, -0.0277,  0.0354,  0.0110,  0.0114,  0.0323,\n",
      "         0.0273, -0.0135, -0.0254,  0.0147,  0.0134,  0.0271, -0.0131, -0.0125,\n",
      "         0.0141,  0.0110,  0.0002, -0.0022,  0.0221,  0.0018,  0.0083, -0.0093,\n",
      "        -0.0112,  0.0221,  0.0159, -0.0299, -0.0087,  0.0015, -0.0125, -0.0192,\n",
      "         0.0289,  0.0124,  0.0291, -0.0323,  0.0045,  0.0097,  0.0339, -0.0219,\n",
      "         0.0234,  0.0053,  0.0018,  0.0072, -0.0232,  0.0316,  0.0210,  0.0017,\n",
      "         0.0315, -0.0284,  0.0103, -0.0199,  0.0329,  0.0175, -0.0238,  0.0027,\n",
      "        -0.0149,  0.0061,  0.0016, -0.0280, -0.0357, -0.0106, -0.0229,  0.0230,\n",
      "         0.0014, -0.0026, -0.0258,  0.0257, -0.0050,  0.0172,  0.0308, -0.0312,\n",
      "         0.0168,  0.0177, -0.0043,  0.0324, -0.0128, -0.0009,  0.0019,  0.0314,\n",
      "        -0.0350,  0.0213,  0.0213, -0.0124, -0.0043,  0.0061,  0.0324, -0.0235,\n",
      "         0.0062,  0.0125,  0.0013,  0.0007,  0.0335, -0.0185,  0.0134, -0.0304,\n",
      "         0.0296,  0.0261,  0.0325, -0.0328, -0.0069, -0.0196, -0.0065, -0.0037],\n",
      "       requires_grad=True)\n"
     ]
    }
   ],
   "source": [
    "model = Network()\n",
    "print(model.hidden1.weight)\n",
    "print(model.hidden1.bias)"
   ]
  },
  {
   "cell_type": "code",
   "execution_count": 7,
   "metadata": {},
   "outputs": [
    {
     "data": {
      "text/plain": [
       "tensor([0., 0., 0., 0., 0., 0., 0., 0., 0., 0., 0., 0., 0., 0., 0., 0., 0., 0.,\n",
       "        0., 0., 0., 0., 0., 0., 0., 0., 0., 0., 0., 0., 0., 0., 0., 0., 0., 0.,\n",
       "        0., 0., 0., 0., 0., 0., 0., 0., 0., 0., 0., 0., 0., 0., 0., 0., 0., 0.,\n",
       "        0., 0., 0., 0., 0., 0., 0., 0., 0., 0., 0., 0., 0., 0., 0., 0., 0., 0.,\n",
       "        0., 0., 0., 0., 0., 0., 0., 0., 0., 0., 0., 0., 0., 0., 0., 0., 0., 0.,\n",
       "        0., 0., 0., 0., 0., 0., 0., 0., 0., 0., 0., 0., 0., 0., 0., 0., 0., 0.,\n",
       "        0., 0., 0., 0., 0., 0., 0., 0., 0., 0., 0., 0., 0., 0., 0., 0., 0., 0.,\n",
       "        0., 0.])"
      ]
     },
     "execution_count": 7,
     "metadata": {},
     "output_type": "execute_result"
    }
   ],
   "source": [
    "# set biases to zero\n",
    "model.hidden1.bias.data.fill_(0)"
   ]
  },
  {
   "cell_type": "code",
   "execution_count": 8,
   "metadata": {},
   "outputs": [
    {
     "data": {
      "text/plain": [
       "tensor([[ 0.0079, -0.0043, -0.0033,  ...,  0.0082, -0.0127, -0.0022],\n",
       "        [ 0.0065, -0.0075,  0.0054,  ..., -0.0131,  0.0095,  0.0057],\n",
       "        [ 0.0024, -0.0022, -0.0106,  ...,  0.0043,  0.0245, -0.0150],\n",
       "        ...,\n",
       "        [-0.0028,  0.0000, -0.0109,  ...,  0.0008, -0.0081, -0.0091],\n",
       "        [ 0.0026,  0.0008, -0.0041,  ...,  0.0081,  0.0156, -0.0031],\n",
       "        [-0.0031,  0.0108, -0.0057,  ..., -0.0057, -0.0035,  0.0055]])"
      ]
     },
     "execution_count": 8,
     "metadata": {},
     "output_type": "execute_result"
    }
   ],
   "source": [
    "# sample from random normal with std dev = 0.01\n",
    "model.hidden1.weight.data.normal_(std=0.01)"
   ]
  },
  {
   "cell_type": "markdown",
   "metadata": {},
   "source": [
    "### Forward pass"
   ]
  },
  {
   "cell_type": "code",
   "execution_count": 9,
   "metadata": {},
   "outputs": [
    {
     "data": {
      "image/png": "[encoded data removed]",
      "text/plain": [
       "<Figure size 432x648 with 2 Axes>"
      ]
     },
     "metadata": {},
     "output_type": "display_data"
    }
   ],
   "source": [
    "# grab data\n",
    "dataiter = iter(trainloader)\n",
    "images, labels = dataiter.next()\n",
    "\n",
    "# resize iamges into 1D vector (batch size, color channels, image pixels)\n",
    "images.resize_(64, 1, 784)\n",
    "\n",
    "# forward pass through network\n",
    "img_idx = 0\n",
    "ps = model.forward(images[img_idx,:])\n",
    "\n",
    "img = images[img_idx]\n",
    "helper.view_classify(img.view(1, 28, 28), ps)"
   ]
  },
  {
   "cell_type": "markdown",
   "metadata": {},
   "source": [
    "Currently, the probabilities are all the same because the network hasn't yet been trained.\n",
    "\n",
    "\n",
    "### Using nn.Sequential\n",
    "This is a more succinct way of passing a tensor sequentially through operations"
   ]
  },
  {
   "cell_type": "code",
   "execution_count": 10,
   "metadata": {},
   "outputs": [
    {
     "name": "stdout",
     "output_type": "stream",
     "text": [
      "Sequential(\n",
      "  (0): Linear(in_features=784, out_features=128, bias=True)\n",
      "  (1): ReLU()\n",
      "  (2): Linear(in_features=128, out_features=64, bias=True)\n",
      "  (3): ReLU()\n",
      "  (4): Linear(in_features=64, out_features=10, bias=True)\n",
      "  (5): Softmax()\n",
      ")\n"
     ]
    },
    {
     "data": {
      "image/png": "[encoded data removed]",
      "text/plain": [
       "<Figure size 432x648 with 2 Axes>"
      ]
     },
     "metadata": {},
     "output_type": "display_data"
    }
   ],
   "source": [
    "input_size = 784\n",
    "hidden_sizes = [128, 64]\n",
    "output_size = 10\n",
    "\n",
    "# build a feed-forward network\n",
    "model = nn.Sequential(nn.Linear(input_size, hidden_sizes[0]),\n",
    "                     nn.ReLU(),\n",
    "                     nn.Linear(hidden_sizes[0], hidden_sizes[1]),\n",
    "                     nn.ReLU(),\n",
    "                     nn.Linear(hidden_sizes[1], output_size),\n",
    "                     nn.Softmax(dim=1))\n",
    "\n",
    "print(model)\n",
    "\n",
    "# forward pass through the network and display output\n",
    "images, labels = next(iter(trainloader))\n",
    "images.resize_(images.shape[0], 1, 784)\n",
    "ps = model.forward(images[0,:])\n",
    "helper.view_classify(images[0].view(1, 28, 28), ps)"
   ]
  },
  {
   "cell_type": "markdown",
   "metadata": {},
   "source": [
    "Can see the operations by passing the appropriate index. Ex. to get the first linear operation use model[0], the first ReLU use model[1] and so on"
   ]
  },
  {
   "cell_type": "code",
   "execution_count": 11,
   "metadata": {},
   "outputs": [
    {
     "name": "stdout",
     "output_type": "stream",
     "text": [
      "Linear(in_features=784, out_features=128, bias=True)\n"
     ]
    },
    {
     "data": {
      "text/plain": [
       "Parameter containing:\n",
       "tensor([[ 0.0246,  0.0139, -0.0342,  ..., -0.0166, -0.0176,  0.0291],\n",
       "        [-0.0336,  0.0309, -0.0323,  ..., -0.0247,  0.0136, -0.0183],\n",
       "        [ 0.0303,  0.0043,  0.0314,  ..., -0.0251, -0.0065,  0.0207],\n",
       "        ...,\n",
       "        [-0.0096,  0.0171, -0.0172,  ..., -0.0081, -0.0008,  0.0267],\n",
       "        [ 0.0134,  0.0153,  0.0271,  ...,  0.0259, -0.0112, -0.0046],\n",
       "        [ 0.0190,  0.0053,  0.0315,  ..., -0.0172, -0.0108,  0.0064]],\n",
       "       requires_grad=True)"
      ]
     },
     "execution_count": 11,
     "metadata": {},
     "output_type": "execute_result"
    }
   ],
   "source": [
    "print(model[0])\n",
    "model[0].weight"
   ]
  },
  {
   "cell_type": "markdown",
   "metadata": {},
   "source": [
    "May also use OrderedDict to name individual layers and operations instead of incremental integers"
   ]
  },
  {
   "cell_type": "code",
   "execution_count": 12,
   "metadata": {},
   "outputs": [
    {
     "data": {
      "text/plain": [
       "Sequential(\n",
       "  (hidden1): Linear(in_features=784, out_features=128, bias=True)\n",
       "  (relu1): ReLU()\n",
       "  (hidden2): Linear(in_features=128, out_features=64, bias=True)\n",
       "  (relu2): ReLU()\n",
       "  (output): Linear(in_features=64, out_features=10, bias=True)\n",
       "  (softmax): Softmax()\n",
       ")"
      ]
     },
     "execution_count": 12,
     "metadata": {},
     "output_type": "execute_result"
    }
   ],
   "source": [
    "from collections import OrderedDict\n",
    "model = nn.Sequential(OrderedDict([\n",
    "    ('hidden1', nn.Linear(input_size, hidden_sizes[0])),\n",
    "    ('relu1', nn.ReLU()),\n",
    "    ('hidden2', nn.Linear(hidden_sizes[0], hidden_sizes[1])),\n",
    "    ('relu2', nn.ReLU()),\n",
    "    ('output', nn.Linear(hidden_sizes[1], output_size)),\n",
    "    ('softmax', nn.Softmax(dim=1))\n",
    "]))\n",
    "\n",
    "model"
   ]
  },
  {
   "cell_type": "code",
   "execution_count": 13,
   "metadata": {},
   "outputs": [
    {
     "name": "stdout",
     "output_type": "stream",
     "text": [
      "Linear(in_features=784, out_features=128, bias=True)\n",
      "Linear(in_features=784, out_features=128, bias=True)\n"
     ]
    }
   ],
   "source": [
    "# can now access layers by integer or by name\n",
    "print(model[0])\n",
    "print(model.hidden1)"
   ]
  },
  {
   "cell_type": "code",
   "execution_count": null,
   "metadata": {},
   "outputs": [],
   "source": []
  }
 ],
 "metadata": {
  "kernelspec": {
   "display_name": "Python 3",
   "language": "python",
   "name": "python3"
  },
  "language_info": {
   "codemirror_mode": {
    "name": "ipython",
    "version": 3
   },
   "file_extension": ".py",
   "mimetype": "text/x-python",
   "name": "python",
   "nbconvert_exporter": "python",
   "pygments_lexer": "ipython3",
   "version": "3.6.5"
  }
 },
 "nbformat": 4,
 "nbformat_minor": 2
}
